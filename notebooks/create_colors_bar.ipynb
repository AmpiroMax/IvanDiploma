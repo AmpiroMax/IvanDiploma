{
 "cells": [
  {
   "cell_type": "code",
   "execution_count": 1,
   "metadata": {},
   "outputs": [],
   "source": [
    "import json"
   ]
  },
  {
   "cell_type": "code",
   "execution_count": 2,
   "metadata": {},
   "outputs": [],
   "source": [
    "data = dict()\n",
    "for i in range(17):\n",
    "    color = [int(num) for num in input().split()]\n",
    "    data[i] = color"
   ]
  },
  {
   "cell_type": "code",
   "execution_count": 3,
   "metadata": {},
   "outputs": [
    {
     "data": {
      "text/plain": [
       "{0: [0, 0, 128],\n",
       " 1: [0, 0, 192],\n",
       " 2: [0, 0, 255],\n",
       " 3: [0, 128, 255],\n",
       " 4: [0, 255, 255],\n",
       " 5: [0, 255, 128],\n",
       " 6: [0, 255, 0],\n",
       " 7: [0, 213, 0],\n",
       " 8: [0, 170, 0],\n",
       " 9: [0, 128, 0],\n",
       " 10: [128, 192, 0],\n",
       " 11: [255, 255, 0],\n",
       " 12: [255, 128, 0],\n",
       " 13: [255, 0, 0],\n",
       " 14: [213, 0, 43],\n",
       " 15: [170, 0, 85],\n",
       " 16: [128, 0, 128]}"
      ]
     },
     "execution_count": 3,
     "metadata": {},
     "output_type": "execute_result"
    }
   ],
   "source": [
    "data"
   ]
  },
  {
   "cell_type": "code",
   "execution_count": 6,
   "metadata": {},
   "outputs": [],
   "source": [
    "with open(\"../data/colors.json\", \"w\") as file:\n",
    "    json.dump(data, file)"
   ]
  }
 ],
 "metadata": {
  "kernelspec": {
   "display_name": ".venv",
   "language": "python",
   "name": "python3"
  },
  "language_info": {
   "codemirror_mode": {
    "name": "ipython",
    "version": 3
   },
   "file_extension": ".py",
   "mimetype": "text/x-python",
   "name": "python",
   "nbconvert_exporter": "python",
   "pygments_lexer": "ipython3",
   "version": "3.10.7"
  }
 },
 "nbformat": 4,
 "nbformat_minor": 2
}
